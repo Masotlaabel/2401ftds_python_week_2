{
 "cells": [
  {
   "cell_type": "markdown",
   "metadata": {},
   "source": [
    "Write a Python function to check whether a number is divisible by another number. Accept two integer values from the user."
   ]
  },
  {
   "cell_type": "code",
   "execution_count": 29,
   "metadata": {},
   "outputs": [
    {
     "name": "stdin",
     "output_type": "stream",
     "text": [
      "Enter the first number:  50\n",
      "Enter the second number (non-zero):  25\n"
     ]
    },
    {
     "name": "stdout",
     "output_type": "stream",
     "text": [
      "50 is divisible by 25.\n"
     ]
    }
   ],
   "source": [
    "def check_divisibility():\n",
    "        user_input1 = input(\"Enter the first number: \")\n",
    "        user_input2 = input(\"Enter the second number (non-zero): \")\n",
    "        user1 = int(user_input1)\n",
    "        user2 = int(user_input2)\n",
    "    # Check if num1 is divisible by num2\n",
    "        if user1 % user2 == 0:\n",
    "            print(f\"{user1} is divisible by {user2}.\")\n",
    "        else:\n",
    "            print(f\"{user1} is not divisible by {user2}.\")\n",
    "\n",
    "check_divisibility()"
   ]
  },
  {
   "cell_type": "markdown",
   "metadata": {},
   "source": [
    "Write a Python function to check whether a distinct pair of numbers whose product is odd is present in a sequence of integer values.\n",
    "\n",
    "*Pictorial Presentation of the sequence [2, 4, 6, 8]:*\n",
    "\n",
    "<img src=\"pictorial_presentation.png\">\n",
    "\n",
    "*Pictorial Presentation of the sequence [1, 6, 4, 7, 8]:*\n",
    "\n",
    "<img src=\"pictorial_presentation_true.png\">"
   ]
  },
  {
   "cell_type": "code",
   "execution_count": 32,
   "metadata": {},
   "outputs": [],
   "source": [
    "def odd_product(nums):\n",
    "    odd_numbers = set()\n",
    "    even_numbers = set()\n",
    "\n",
    "    for num in nums:\n",
    "        if num % 2 == 0:\n",
    "            # Number is even\n",
    "            if num in even_numbers:\n",
    "                return True \n",
    "            even_numbers.add(num)\n",
    "        else:\n",
    "            # Number is odd\n",
    "            for odd_num in odd_numbers:\n",
    "                if odd_num * num % 2 == 1:\n",
    "                    return True  \n",
    "            odd_numbers.add(num)\n",
    "\n",
    "    return False  # No distinct pair with odd product found\n",
    "# if is_odd_product_pair_present(sequence_num, pair_of_num):\n",
    "#     print(\"There is a distinct pair of numbers in pair_of_num whose product is odd and present in sequence_num.\")\n",
    "# else:\n",
    "#     print(\"No such distinct pair of numbers with odd product is present in sequence_num.\")\n"
   ]
  },
  {
   "cell_type": "code",
   "execution_count": 33,
   "metadata": {},
   "outputs": [
    {
     "name": "stdout",
     "output_type": "stream",
     "text": [
      "[2, 4, 6, 8] False\n",
      "[1, 6, 4, 7, 8] True\n",
      "[1, 3, 5, 7, 9] True\n"
     ]
    }
   ],
   "source": [
    "dt1 = [2, 4, 6, 8]\n",
    "dt2 = [1, 6, 4, 7, 8]\n",
    "dt3 = [1, 3, 5, 7, 9]\n",
    "\n",
    "# Call the 'odd_product' function for each list and print the result.\n",
    "print(dt1, odd_product(dt1))\n",
    "print(dt2, odd_product(dt2))\n",
    "print(dt3, odd_product(dt3))"
   ]
  },
  {
   "cell_type": "code",
   "execution_count": null,
   "metadata": {},
   "outputs": [],
   "source": []
  }
 ],
 "metadata": {
  "kernelspec": {
   "display_name": "Python 3 (ipykernel)",
   "language": "python",
   "name": "python3"
  },
  "language_info": {
   "codemirror_mode": {
    "name": "ipython",
    "version": 3
   },
   "file_extension": ".py",
   "mimetype": "text/x-python",
   "name": "python",
   "nbconvert_exporter": "python",
   "pygments_lexer": "ipython3",
   "version": "3.11.8"
  }
 },
 "nbformat": 4,
 "nbformat_minor": 4
}
